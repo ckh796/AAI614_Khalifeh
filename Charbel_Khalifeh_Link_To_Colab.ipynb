{
 "cells": [
  {
   "cell_type": "markdown",
   "id": "66de4fdf-53d0-40da-973a-d7895186748d",
   "metadata": {},
   "source": [
    "## Link to Google Colab:"
   ]
  },
  {
   "cell_type": "code",
   "execution_count": null,
   "id": "fe37f707-315e-45a4-ac70-de8120a9898b",
   "metadata": {},
   "outputs": [],
   "source": [
    "https://colab.research.google.com/drive/1IR0boQ73BrsCGnFO-MY_40sXZ0i7Wnjb?usp=sharing"
   ]
  },
  {
   "cell_type": "code",
   "execution_count": null,
   "id": "c7d142a2-98ab-457a-bf63-eea1c224019f",
   "metadata": {},
   "outputs": [],
   "source": []
  }
 ],
 "metadata": {
  "kernelspec": {
   "display_name": "Python 3 (ipykernel)",
   "language": "python",
   "name": "python3"
  },
  "language_info": {
   "codemirror_mode": {
    "name": "ipython",
    "version": 3
   },
   "file_extension": ".py",
   "mimetype": "text/x-python",
   "name": "python",
   "nbconvert_exporter": "python",
   "pygments_lexer": "ipython3",
   "version": "3.11.7"
  }
 },
 "nbformat": 4,
 "nbformat_minor": 5
}
