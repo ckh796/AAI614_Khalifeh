{
 "cells": [
  {
   "cell_type": "markdown",
   "id": "6a9416c2-c394-491c-965d-281eb79f9d2e",
   "metadata": {},
   "source": [
    "# Charbel Khalifeh - 201402770 - Graded Assessment 1"
   ]
  },
  {
   "cell_type": "markdown",
   "id": "f8f413b5-861c-45c1-8cad-42bc2498fd2b",
   "metadata": {},
   "source": [
    "## Part One: Data Analysis"
   ]
  },
  {
   "cell_type": "code",
   "execution_count": 1,
   "id": "92af1c88-5c59-4d98-87b3-00ab30c14f26",
   "metadata": {},
   "outputs": [],
   "source": [
    "import pandas as pd\n",
    "file_name = 'adult.data'\n",
    "adult_data = pd.read_csv(file_name, header=None, skipinitialspace=True)"
   ]
  },
  {
   "cell_type": "code",
   "execution_count": 2,
   "id": "0c084604-8256-46a3-ab66-963e0509febe",
   "metadata": {},
   "outputs": [
    {
     "data": {
      "text/html": [
       "<div>\n",
       "<style scoped>\n",
       "    .dataframe tbody tr th:only-of-type {\n",
       "        vertical-align: middle;\n",
       "    }\n",
       "\n",
       "    .dataframe tbody tr th {\n",
       "        vertical-align: top;\n",
       "    }\n",
       "\n",
       "    .dataframe thead th {\n",
       "        text-align: right;\n",
       "    }\n",
       "</style>\n",
       "<table border=\"1\" class=\"dataframe\">\n",
       "  <thead>\n",
       "    <tr style=\"text-align: right;\">\n",
       "      <th></th>\n",
       "      <th>0</th>\n",
       "      <th>1</th>\n",
       "      <th>2</th>\n",
       "      <th>3</th>\n",
       "      <th>4</th>\n",
       "      <th>5</th>\n",
       "      <th>6</th>\n",
       "      <th>7</th>\n",
       "      <th>8</th>\n",
       "      <th>9</th>\n",
       "      <th>10</th>\n",
       "      <th>11</th>\n",
       "      <th>12</th>\n",
       "      <th>13</th>\n",
       "      <th>14</th>\n",
       "    </tr>\n",
       "  </thead>\n",
       "  <tbody>\n",
       "    <tr>\n",
       "      <th>0</th>\n",
       "      <td>39</td>\n",
       "      <td>State-gov</td>\n",
       "      <td>77516</td>\n",
       "      <td>Bachelors</td>\n",
       "      <td>13</td>\n",
       "      <td>Never-married</td>\n",
       "      <td>Adm-clerical</td>\n",
       "      <td>Not-in-family</td>\n",
       "      <td>White</td>\n",
       "      <td>Male</td>\n",
       "      <td>2174</td>\n",
       "      <td>0</td>\n",
       "      <td>40</td>\n",
       "      <td>United-States</td>\n",
       "      <td>&lt;=50K</td>\n",
       "    </tr>\n",
       "    <tr>\n",
       "      <th>1</th>\n",
       "      <td>50</td>\n",
       "      <td>Self-emp-not-inc</td>\n",
       "      <td>83311</td>\n",
       "      <td>Bachelors</td>\n",
       "      <td>13</td>\n",
       "      <td>Married-civ-spouse</td>\n",
       "      <td>Exec-managerial</td>\n",
       "      <td>Husband</td>\n",
       "      <td>White</td>\n",
       "      <td>Male</td>\n",
       "      <td>0</td>\n",
       "      <td>0</td>\n",
       "      <td>13</td>\n",
       "      <td>United-States</td>\n",
       "      <td>&lt;=50K</td>\n",
       "    </tr>\n",
       "    <tr>\n",
       "      <th>2</th>\n",
       "      <td>38</td>\n",
       "      <td>Private</td>\n",
       "      <td>215646</td>\n",
       "      <td>HS-grad</td>\n",
       "      <td>9</td>\n",
       "      <td>Divorced</td>\n",
       "      <td>Handlers-cleaners</td>\n",
       "      <td>Not-in-family</td>\n",
       "      <td>White</td>\n",
       "      <td>Male</td>\n",
       "      <td>0</td>\n",
       "      <td>0</td>\n",
       "      <td>40</td>\n",
       "      <td>United-States</td>\n",
       "      <td>&lt;=50K</td>\n",
       "    </tr>\n",
       "    <tr>\n",
       "      <th>3</th>\n",
       "      <td>53</td>\n",
       "      <td>Private</td>\n",
       "      <td>234721</td>\n",
       "      <td>11th</td>\n",
       "      <td>7</td>\n",
       "      <td>Married-civ-spouse</td>\n",
       "      <td>Handlers-cleaners</td>\n",
       "      <td>Husband</td>\n",
       "      <td>Black</td>\n",
       "      <td>Male</td>\n",
       "      <td>0</td>\n",
       "      <td>0</td>\n",
       "      <td>40</td>\n",
       "      <td>United-States</td>\n",
       "      <td>&lt;=50K</td>\n",
       "    </tr>\n",
       "    <tr>\n",
       "      <th>4</th>\n",
       "      <td>28</td>\n",
       "      <td>Private</td>\n",
       "      <td>338409</td>\n",
       "      <td>Bachelors</td>\n",
       "      <td>13</td>\n",
       "      <td>Married-civ-spouse</td>\n",
       "      <td>Prof-specialty</td>\n",
       "      <td>Wife</td>\n",
       "      <td>Black</td>\n",
       "      <td>Female</td>\n",
       "      <td>0</td>\n",
       "      <td>0</td>\n",
       "      <td>40</td>\n",
       "      <td>Cuba</td>\n",
       "      <td>&lt;=50K</td>\n",
       "    </tr>\n",
       "    <tr>\n",
       "      <th>5</th>\n",
       "      <td>37</td>\n",
       "      <td>Private</td>\n",
       "      <td>284582</td>\n",
       "      <td>Masters</td>\n",
       "      <td>14</td>\n",
       "      <td>Married-civ-spouse</td>\n",
       "      <td>Exec-managerial</td>\n",
       "      <td>Wife</td>\n",
       "      <td>White</td>\n",
       "      <td>Female</td>\n",
       "      <td>0</td>\n",
       "      <td>0</td>\n",
       "      <td>40</td>\n",
       "      <td>United-States</td>\n",
       "      <td>&lt;=50K</td>\n",
       "    </tr>\n",
       "    <tr>\n",
       "      <th>6</th>\n",
       "      <td>49</td>\n",
       "      <td>Private</td>\n",
       "      <td>160187</td>\n",
       "      <td>9th</td>\n",
       "      <td>5</td>\n",
       "      <td>Married-spouse-absent</td>\n",
       "      <td>Other-service</td>\n",
       "      <td>Not-in-family</td>\n",
       "      <td>Black</td>\n",
       "      <td>Female</td>\n",
       "      <td>0</td>\n",
       "      <td>0</td>\n",
       "      <td>16</td>\n",
       "      <td>Jamaica</td>\n",
       "      <td>&lt;=50K</td>\n",
       "    </tr>\n",
       "    <tr>\n",
       "      <th>7</th>\n",
       "      <td>52</td>\n",
       "      <td>Self-emp-not-inc</td>\n",
       "      <td>209642</td>\n",
       "      <td>HS-grad</td>\n",
       "      <td>9</td>\n",
       "      <td>Married-civ-spouse</td>\n",
       "      <td>Exec-managerial</td>\n",
       "      <td>Husband</td>\n",
       "      <td>White</td>\n",
       "      <td>Male</td>\n",
       "      <td>0</td>\n",
       "      <td>0</td>\n",
       "      <td>45</td>\n",
       "      <td>United-States</td>\n",
       "      <td>&gt;50K</td>\n",
       "    </tr>\n",
       "    <tr>\n",
       "      <th>8</th>\n",
       "      <td>31</td>\n",
       "      <td>Private</td>\n",
       "      <td>45781</td>\n",
       "      <td>Masters</td>\n",
       "      <td>14</td>\n",
       "      <td>Never-married</td>\n",
       "      <td>Prof-specialty</td>\n",
       "      <td>Not-in-family</td>\n",
       "      <td>White</td>\n",
       "      <td>Female</td>\n",
       "      <td>14084</td>\n",
       "      <td>0</td>\n",
       "      <td>50</td>\n",
       "      <td>United-States</td>\n",
       "      <td>&gt;50K</td>\n",
       "    </tr>\n",
       "    <tr>\n",
       "      <th>9</th>\n",
       "      <td>42</td>\n",
       "      <td>Private</td>\n",
       "      <td>159449</td>\n",
       "      <td>Bachelors</td>\n",
       "      <td>13</td>\n",
       "      <td>Married-civ-spouse</td>\n",
       "      <td>Exec-managerial</td>\n",
       "      <td>Husband</td>\n",
       "      <td>White</td>\n",
       "      <td>Male</td>\n",
       "      <td>5178</td>\n",
       "      <td>0</td>\n",
       "      <td>40</td>\n",
       "      <td>United-States</td>\n",
       "      <td>&gt;50K</td>\n",
       "    </tr>\n",
       "  </tbody>\n",
       "</table>\n",
       "</div>"
      ],
      "text/plain": [
       "   0                 1       2          3   4                      5   \\\n",
       "0  39         State-gov   77516  Bachelors  13          Never-married   \n",
       "1  50  Self-emp-not-inc   83311  Bachelors  13     Married-civ-spouse   \n",
       "2  38           Private  215646    HS-grad   9               Divorced   \n",
       "3  53           Private  234721       11th   7     Married-civ-spouse   \n",
       "4  28           Private  338409  Bachelors  13     Married-civ-spouse   \n",
       "5  37           Private  284582    Masters  14     Married-civ-spouse   \n",
       "6  49           Private  160187        9th   5  Married-spouse-absent   \n",
       "7  52  Self-emp-not-inc  209642    HS-grad   9     Married-civ-spouse   \n",
       "8  31           Private   45781    Masters  14          Never-married   \n",
       "9  42           Private  159449  Bachelors  13     Married-civ-spouse   \n",
       "\n",
       "                  6              7      8       9      10  11  12  \\\n",
       "0       Adm-clerical  Not-in-family  White    Male   2174   0  40   \n",
       "1    Exec-managerial        Husband  White    Male      0   0  13   \n",
       "2  Handlers-cleaners  Not-in-family  White    Male      0   0  40   \n",
       "3  Handlers-cleaners        Husband  Black    Male      0   0  40   \n",
       "4     Prof-specialty           Wife  Black  Female      0   0  40   \n",
       "5    Exec-managerial           Wife  White  Female      0   0  40   \n",
       "6      Other-service  Not-in-family  Black  Female      0   0  16   \n",
       "7    Exec-managerial        Husband  White    Male      0   0  45   \n",
       "8     Prof-specialty  Not-in-family  White  Female  14084   0  50   \n",
       "9    Exec-managerial        Husband  White    Male   5178   0  40   \n",
       "\n",
       "              13     14  \n",
       "0  United-States  <=50K  \n",
       "1  United-States  <=50K  \n",
       "2  United-States  <=50K  \n",
       "3  United-States  <=50K  \n",
       "4           Cuba  <=50K  \n",
       "5  United-States  <=50K  \n",
       "6        Jamaica  <=50K  \n",
       "7  United-States   >50K  \n",
       "8  United-States   >50K  \n",
       "9  United-States   >50K  "
      ]
     },
     "execution_count": 2,
     "metadata": {},
     "output_type": "execute_result"
    }
   ],
   "source": [
    "adult_data.head(10)"
   ]
  },
  {
   "cell_type": "markdown",
   "id": "0e4a6222-32e1-4687-9833-89f232bd45db",
   "metadata": {},
   "source": [
    "## 1. Check the columns of your data. Are they the expected data types based on their descriptions in this text file description of the data? \n"
   ]
  },
  {
   "cell_type": "markdown",
   "id": "a864ba9d-2d8e-4cc7-941c-d37e9bf43420",
   "metadata": {},
   "source": [
    "This is the text file that describes the data, and mapped to the correct indices (0 - 14) for reference:"
   ]
  },
  {
   "cell_type": "markdown",
   "id": "e1f2869d-ed51-40a4-9029-0c7631b920c9",
   "metadata": {},
   "source": [
    "0. **Age**: \n",
    "   - Continuous\n",
    "\n",
    "1. **Workclass**: \n",
    "   - Private\n",
    "   - Self-emp-not-inc\n",
    "   - Self-emp-inc\n",
    "   - Federal-gov\n",
    "   - Local-gov\n",
    "   - State-gov\n",
    "   - Without-pay\n",
    "   - Never-worked\n",
    "\n",
    "2. **Fnlwgt**: \n",
    "   - Continuous\n",
    "\n",
    "3. **Education**: \n",
    "   - Bachelors\n",
    "   - Some-college\n",
    "   - 11th\n",
    "   - HS-grad\n",
    "   - Prof-school\n",
    "   - Assoc-acdm\n",
    "   - Assoc-voc\n",
    "   - 9th\n",
    "   - 7th-8th\n",
    "   - 12th\n",
    "   - Masters\n",
    "   - 1st-4th\n",
    "   - 10th\n",
    "   - Doctorate\n",
    "   - 5th-6th\n",
    "   - Preschool\n",
    "\n",
    "4. **Education-num**: \n",
    "   - Continuous\n",
    "\n",
    "5. **Marital-status**: \n",
    "   - Married-civ-spouse\n",
    "   - Divorced\n",
    "   - Never-married\n",
    "   - Separated\n",
    "   - Widowed\n",
    "   - Married-spouse-absent\n",
    "   - Married-AF-spouse\n",
    "\n",
    "6. **Occupation**: \n",
    "   - Tech-support\n",
    "   - Craft-repair\n",
    "   - Other-service\n",
    "   - Sales\n",
    "   - Exec-managerial\n",
    "   - Prof-specialty\n",
    "   - Handlers-cleaners\n",
    "   - Machine-op-inspct\n",
    "   - Adm-clerical\n",
    "   - Farming-fishing\n",
    "   - Transport-moving\n",
    "   - Priv-house-serv\n",
    "   - Protective-serv\n",
    "   - Armed-Forces\n",
    "\n",
    "7. **Relationship**: \n",
    "   - Wife\n",
    "   - Own-child\n",
    "   - Husband\n",
    "   - Not-in-family\n",
    "   - Other-relative\n",
    "   - Unmarried\n",
    "\n",
    "8. **Race**: \n",
    "    - White\n",
    "    - Asian-Pac-Islander\n",
    "    - Amer-Indian-Eskimo\n",
    "    - Other\n",
    "    - Black\n",
    "\n",
    "9. **Sex**: \n",
    "    - Female\n",
    "    - Male\n",
    "\n",
    "10. **Capital-gain**: \n",
    "    - Continuous\n",
    "\n",
    "11. **Capital-loss**: \n",
    "    - Continuous\n",
    "\n",
    "12. **Hours-per-week**: \n",
    "    - Continuous\n",
    "\n",
    "13. **Native-country**: \n",
    "    - United-States\n",
    "    - Cambodia\n",
    "    - England\n",
    "    - Puerto-Rico\n",
    "    - Canada\n",
    "    - Germany\n",
    "    - Outlying-US(Guam-USVI-etc)\n",
    "    - India\n",
    "    - Japan\n",
    "    - Greece\n",
    "    - South\n",
    "    - China\n",
    "    - Cuba\n",
    "    - Iran\n",
    "    - Honduras\n",
    "    - Philippines\n",
    "    - Italy\n",
    "    - Poland\n",
    "    - Jamaica\n",
    "    - Vietnam\n",
    "    - Mexico\n",
    "    - Portugal\n",
    "    - Ireland\n",
    "    - France\n",
    "    - Dominican-Republic\n",
    "    - Laos\n",
    "    - Ecuador\n",
    "    - Taiwan\n",
    "    - Haiti\n",
    "    - Columbia\n",
    "    - Hungary\n",
    "    - Guatemala\n",
    "    - Nicaragua\n",
    "    - Scotland\n",
    "    - Thailand\n",
    "    - Yugoslavia\n",
    "    - El-Salvador\n",
    "    - Trinidad&Tobago\n",
    "    - Peru\n",
    "    - Hong\n",
    "    - Holand-Netherlands\n",
    "      \n",
    "14. **Income**: \n",
    "   - \\>50K\n",
    "   - <=50K"
   ]
  },
  {
   "cell_type": "markdown",
   "id": "f98242f1-9eb2-45a5-bb4a-50b59462cb0f",
   "metadata": {},
   "source": [
    "### Based on the description, the column data types do match. "
   ]
  },
  {
   "cell_type": "markdown",
   "id": "b39889f7-8668-4d78-a0c9-86f91662a441",
   "metadata": {},
   "source": [
    "## 2. How are missing values represented in this data? Cast missing values to np.nan, if necessary. Count the number of missing values in each column. "
   ]
  },
  {
   "cell_type": "markdown",
   "id": "87f5ea54-8c4d-4cef-a027-8d8fbff38ab3",
   "metadata": {},
   "source": [
    "According to the \"Variables Table\" on https://archive.ics.uci.edu/dataset/2/adult, there are three columns with missing data:\n",
    "- Workclass\n",
    "- Occupation\n",
    "- Native Country"
   ]
  },
  {
   "cell_type": "code",
   "execution_count": 3,
   "id": "44e93e32-2a1f-48b6-ae27-3b739f31e1ce",
   "metadata": {},
   "outputs": [
    {
     "name": "stdout",
     "output_type": "stream",
     "text": [
      "['State-gov' 'Self-emp-not-inc' 'Private' 'Federal-gov' 'Local-gov' '?'\n",
      " 'Self-emp-inc' 'Without-pay' 'Never-worked']\n"
     ]
    }
   ],
   "source": [
    "unique_values_column_workclass = adult_data[1].unique()\n",
    "print(unique_values_column_workclass)"
   ]
  },
  {
   "cell_type": "code",
   "execution_count": 4,
   "id": "c1ddfa33-a0fe-4ee1-874b-4ed199a06eb4",
   "metadata": {},
   "outputs": [
    {
     "name": "stdout",
     "output_type": "stream",
     "text": [
      "['Adm-clerical' 'Exec-managerial' 'Handlers-cleaners' 'Prof-specialty'\n",
      " 'Other-service' 'Sales' 'Craft-repair' 'Transport-moving'\n",
      " 'Farming-fishing' 'Machine-op-inspct' 'Tech-support' '?'\n",
      " 'Protective-serv' 'Armed-Forces' 'Priv-house-serv']\n"
     ]
    }
   ],
   "source": [
    "unique_values_occupation = adult_data[6].unique()\n",
    "print(unique_values_occupation)"
   ]
  },
  {
   "cell_type": "code",
   "execution_count": 5,
   "id": "4c8d04f2-c7c0-4d48-a78f-52bc093a354a",
   "metadata": {},
   "outputs": [
    {
     "name": "stdout",
     "output_type": "stream",
     "text": [
      "['United-States' 'Cuba' 'Jamaica' 'India' '?' 'Mexico' 'South'\n",
      " 'Puerto-Rico' 'Honduras' 'England' 'Canada' 'Germany' 'Iran'\n",
      " 'Philippines' 'Italy' 'Poland' 'Columbia' 'Cambodia' 'Thailand' 'Ecuador'\n",
      " 'Laos' 'Taiwan' 'Haiti' 'Portugal' 'Dominican-Republic' 'El-Salvador'\n",
      " 'France' 'Guatemala' 'China' 'Japan' 'Yugoslavia' 'Peru'\n",
      " 'Outlying-US(Guam-USVI-etc)' 'Scotland' 'Trinadad&Tobago' 'Greece'\n",
      " 'Nicaragua' 'Vietnam' 'Hong' 'Ireland' 'Hungary' 'Holand-Netherlands']\n"
     ]
    }
   ],
   "source": [
    "unique_values_country = adult_data[13].unique()\n",
    "print(unique_values_country)"
   ]
  },
  {
   "cell_type": "markdown",
   "id": "2368a328-baf2-4d46-b48c-816872a7a698",
   "metadata": {},
   "source": [
    "## In all three cases, missing values are handled with a string literal \"?\". I'll replace them with nan."
   ]
  },
  {
   "cell_type": "code",
   "execution_count": 6,
   "id": "d0dc7c05-d3ce-4e8f-bd4f-ebd5b671bdb6",
   "metadata": {},
   "outputs": [
    {
     "name": "stdout",
     "output_type": "stream",
     "text": [
      "['State-gov' 'Self-emp-not-inc' 'Private' 'Federal-gov' 'Local-gov' nan\n",
      " 'Self-emp-inc' 'Without-pay' 'Never-worked']\n"
     ]
    }
   ],
   "source": [
    "import numpy as np\n",
    "\n",
    "columns_to_replace = [1, 6, 13]\n",
    "adult_data[columns_to_replace] = adult_data[columns_to_replace].replace(\"?\", np.nan)\n",
    "\n",
    "# To confirm it worked. It did :)\n",
    "unique_values_column_workclass = adult_data[1].unique()\n",
    "print(unique_values_column_workclass)"
   ]
  },
  {
   "cell_type": "markdown",
   "id": "2c1c0953-a8a0-4b46-806e-041784a9df0e",
   "metadata": {},
   "source": [
    "## 3. Individually plot the distributions of capital_gain and capital_loss. Do you think these variables should be transformed into categorical variables? Why or why not? If yes, create a new variable(s) with your suggested transformation and plot or describe in a table the distribution of the new categorical variable(s)."
   ]
  },
  {
   "cell_type": "code",
   "execution_count": 7,
   "id": "db835946-3dee-4d01-acbc-eef732cc4a44",
   "metadata": {},
   "outputs": [
    {
     "data": {
      "image/png": "[encoded data removed]",
      "text/plain": [
       "<Figure size 800x600 with 1 Axes>"
      ]
     },
     "metadata": {},
     "output_type": "display_data"
    },
    {
     "data": {
      "image/png": "[encoded data removed]",
      "text/plain": [
       "<Figure size 800x600 with 1 Axes>"
      ]
     },
     "metadata": {},
     "output_type": "display_data"
    }
   ],
   "source": [
    "import matplotlib.pyplot as plt\n",
    "\n",
    "columns_to_plot = [10, 11]\n",
    "\n",
    "    # Plot the distributions for columns 10 and 11\n",
    "for col in columns_to_plot:\n",
    "    plt.figure(figsize=(8, 6))\n",
    "    plt.hist(adult_data[col].dropna(), bins=30, edgecolor='k', alpha=0.7)\n",
    "    if (col == 10):\n",
    "        plt.xlabel(f'Capital Gain', fontsize=14)\n",
    "    else:\n",
    "        plt.xlabel(f'Capital Loss', fontsize=14)  \n",
    "    plt.ylabel('Frequency', fontsize=14)\n",
    "    plt.grid(axis='y', linestyle='--', alpha=0.7)\n",
    "    plt.show()"
   ]
  },
  {
   "cell_type": "markdown",
   "id": "d79d9456-7348-493d-a8a0-c6fc46bbea7f",
   "metadata": {},
   "source": [
    "### In both distributions, the vast majority rows have 0 gains/losses. The're both highly skewed towards zero. It makes sense to transform these variables in categories \"None\", \"Low\", \"Medium\", \"High\"."
   ]
  },
  {
   "cell_type": "code",
   "execution_count": 8,
   "id": "7c3cadc0-9e3a-4031-9e17-dbc3ef8844d6",
   "metadata": {},
   "outputs": [
    {
     "data": {
      "text/html": [
       "<div>\n",
       "<style scoped>\n",
       "    .dataframe tbody tr th:only-of-type {\n",
       "        vertical-align: middle;\n",
       "    }\n",
       "\n",
       "    .dataframe tbody tr th {\n",
       "        vertical-align: top;\n",
       "    }\n",
       "\n",
       "    .dataframe thead th {\n",
       "        text-align: right;\n",
       "    }\n",
       "</style>\n",
       "<table border=\"1\" class=\"dataframe\">\n",
       "  <thead>\n",
       "    <tr style=\"text-align: right;\">\n",
       "      <th></th>\n",
       "      <th>0</th>\n",
       "      <th>1</th>\n",
       "      <th>2</th>\n",
       "      <th>3</th>\n",
       "      <th>4</th>\n",
       "      <th>5</th>\n",
       "      <th>6</th>\n",
       "      <th>7</th>\n",
       "      <th>8</th>\n",
       "      <th>9</th>\n",
       "      <th>10</th>\n",
       "      <th>11</th>\n",
       "      <th>12</th>\n",
       "      <th>13</th>\n",
       "      <th>14</th>\n",
       "    </tr>\n",
       "  </thead>\n",
       "  <tbody>\n",
       "    <tr>\n",
       "      <th>0</th>\n",
       "      <td>39</td>\n",
       "      <td>State-gov</td>\n",
       "      <td>77516</td>\n",
       "      <td>Bachelors</td>\n",
       "      <td>13</td>\n",
       "      <td>Never-married</td>\n",
       "      <td>Adm-clerical</td>\n",
       "      <td>Not-in-family</td>\n",
       "      <td>White</td>\n",
       "      <td>Male</td>\n",
       "      <td>Low</td>\n",
       "      <td>None</td>\n",
       "      <td>40</td>\n",
       "      <td>United-States</td>\n",
       "      <td>&lt;=50K</td>\n",
       "    </tr>\n",
       "    <tr>\n",
       "      <th>1</th>\n",
       "      <td>50</td>\n",
       "      <td>Self-emp-not-inc</td>\n",
       "      <td>83311</td>\n",
       "      <td>Bachelors</td>\n",
       "      <td>13</td>\n",
       "      <td>Married-civ-spouse</td>\n",
       "      <td>Exec-managerial</td>\n",
       "      <td>Husband</td>\n",
       "      <td>White</td>\n",
       "      <td>Male</td>\n",
       "      <td>None</td>\n",
       "      <td>None</td>\n",
       "      <td>13</td>\n",
       "      <td>United-States</td>\n",
       "      <td>&lt;=50K</td>\n",
       "    </tr>\n",
       "    <tr>\n",
       "      <th>2</th>\n",
       "      <td>38</td>\n",
       "      <td>Private</td>\n",
       "      <td>215646</td>\n",
       "      <td>HS-grad</td>\n",
       "      <td>9</td>\n",
       "      <td>Divorced</td>\n",
       "      <td>Handlers-cleaners</td>\n",
       "      <td>Not-in-family</td>\n",
       "      <td>White</td>\n",
       "      <td>Male</td>\n",
       "      <td>None</td>\n",
       "      <td>None</td>\n",
       "      <td>40</td>\n",
       "      <td>United-States</td>\n",
       "      <td>&lt;=50K</td>\n",
       "    </tr>\n",
       "    <tr>\n",
       "      <th>3</th>\n",
       "      <td>53</td>\n",
       "      <td>Private</td>\n",
       "      <td>234721</td>\n",
       "      <td>11th</td>\n",
       "      <td>7</td>\n",
       "      <td>Married-civ-spouse</td>\n",
       "      <td>Handlers-cleaners</td>\n",
       "      <td>Husband</td>\n",
       "      <td>Black</td>\n",
       "      <td>Male</td>\n",
       "      <td>None</td>\n",
       "      <td>None</td>\n",
       "      <td>40</td>\n",
       "      <td>United-States</td>\n",
       "      <td>&lt;=50K</td>\n",
       "    </tr>\n",
       "    <tr>\n",
       "      <th>4</th>\n",
       "      <td>28</td>\n",
       "      <td>Private</td>\n",
       "      <td>338409</td>\n",
       "      <td>Bachelors</td>\n",
       "      <td>13</td>\n",
       "      <td>Married-civ-spouse</td>\n",
       "      <td>Prof-specialty</td>\n",
       "      <td>Wife</td>\n",
       "      <td>Black</td>\n",
       "      <td>Female</td>\n",
       "      <td>None</td>\n",
       "      <td>None</td>\n",
       "      <td>40</td>\n",
       "      <td>Cuba</td>\n",
       "      <td>&lt;=50K</td>\n",
       "    </tr>\n",
       "  </tbody>\n",
       "</table>\n",
       "</div>"
      ],
      "text/plain": [
       "   0                 1       2          3   4                   5   \\\n",
       "0  39         State-gov   77516  Bachelors  13       Never-married   \n",
       "1  50  Self-emp-not-inc   83311  Bachelors  13  Married-civ-spouse   \n",
       "2  38           Private  215646    HS-grad   9            Divorced   \n",
       "3  53           Private  234721       11th   7  Married-civ-spouse   \n",
       "4  28           Private  338409  Bachelors  13  Married-civ-spouse   \n",
       "\n",
       "                  6              7      8       9     10    11  12  \\\n",
       "0       Adm-clerical  Not-in-family  White    Male   Low  None  40   \n",
       "1    Exec-managerial        Husband  White    Male  None  None  13   \n",
       "2  Handlers-cleaners  Not-in-family  White    Male  None  None  40   \n",
       "3  Handlers-cleaners        Husband  Black    Male  None  None  40   \n",
       "4     Prof-specialty           Wife  Black  Female  None  None  40   \n",
       "\n",
       "              13     14  \n",
       "0  United-States  <=50K  \n",
       "1  United-States  <=50K  \n",
       "2  United-States  <=50K  \n",
       "3  United-States  <=50K  \n",
       "4           Cuba  <=50K  "
      ]
     },
     "execution_count": 8,
     "metadata": {},
     "output_type": "execute_result"
    }
   ],
   "source": [
    "labels = [\"None\", \"Low\", \"Medium\", \"High\"]\n",
    "\n",
    "bins_gain = [-1, 0, 5000, 20000, 100000]\n",
    "bins_losses = [-1, 0, 1000, 2000, 5000]\n",
    "\n",
    "adult_data[10] = pd.cut(adult_data[10], bins=bins_gain, labels=labels)\n",
    "adult_data[11] = pd.cut(adult_data[11], bins=bins_losses, labels=labels)\n",
    "\n",
    "adult_data.head()"
   ]
  },
  {
   "cell_type": "markdown",
   "id": "30b5249c-f2c6-4163-a462-95ab7f8c8cc0",
   "metadata": {},
   "source": [
    "## 4+5. The sampling weights in the dataset are contained in the variable fnlwgt. The weights indicate the share of the population that the sample represents based on location (and sometimes, other factors). More information is provided in this text file description of the data. Plot or numerically explore the distribution of fnlwgt. Is the variable symmetrically distributed? Compare the distribution of this variable between men and women and comment on any trends you notice. Should outliers be excluded? If you think yes, set the fnlwgt values for those you deem to be outliers as missing for the remainder of your analyses. "
   ]
  },
  {
   "cell_type": "code",
   "execution_count": 9,
   "id": "2b7835c9-42f4-4c18-88b4-ab4d6b5afb8a",
   "metadata": {},
   "outputs": [
    {
     "data": {
      "image/png": "[encoded data removed]",
      "text/plain": [
       "<Figure size 1000x600 with 1 Axes>"
      ]
     },
     "metadata": {},
     "output_type": "display_data"
    }
   ],
   "source": [
    "import seaborn as sns\n",
    "\n",
    "plt.figure(figsize=(10, 6))\n",
    "sns.histplot(adult_data[2], bins=50, kde=True, color='blue', edgecolor='k')\n",
    "plt.title(\"Distribution of fnlwgt\", fontsize=16)\n",
    "plt.xlabel(\"fnlwgt\", fontsize=14)\n",
    "plt.ylabel(\"Frequency\", fontsize=14)\n",
    "plt.grid(axis='y', linestyle='--', alpha=0.7)\n",
    "plt.show()"
   ]
  },
  {
   "cell_type": "markdown",
   "id": "b4909f3b-d62a-4d92-b348-a2b672662a09",
   "metadata": {},
   "source": [
    "### The distribution is not symmetrical and has left skew."
   ]
  },
  {
   "cell_type": "code",
   "execution_count": 10,
   "id": "b68b1015-8c49-4caa-a2c0-9e2cd017b1a1",
   "metadata": {},
   "outputs": [
    {
     "name": "stderr",
     "output_type": "stream",
     "text": [
      "/var/folders/99/6txdjtvn5l72lr0c67lwl64r0000gn/T/ipykernel_90975/1625541643.py:2: FutureWarning: \n",
      "\n",
      "Passing `palette` without assigning `hue` is deprecated and will be removed in v0.14.0. Assign the `x` variable to `hue` and set `legend=False` for the same effect.\n",
      "\n",
      "  sns.boxplot(x=adult_data[9], y=adult_data[2], palette=\"Set3\", showfliers=True)\n"
     ]
    },
    {
     "data": {
      "image/png": "[encoded data removed]",
      "text/plain": [
       "<Figure size 1000x600 with 1 Axes>"
      ]
     },
     "metadata": {},
     "output_type": "display_data"
    }
   ],
   "source": [
    "plt.figure(figsize=(10, 6))\n",
    "sns.boxplot(x=adult_data[9], y=adult_data[2], palette=\"Set3\", showfliers=True)\n",
    "plt.title(\"Distribution of fnlwgt by Sex\", fontsize=18)\n",
    "plt.xlabel(\"Sex\", fontsize=14)\n",
    "plt.ylabel(\"Final Weight (fnlwgt)\", fontsize=14)\n",
    "plt.grid(axis='y', linestyle='--', alpha=0.7)\n",
    "plt.yticks(fontsize=12)\n",
    "plt.xticks(fontsize=12)\n",
    "\n",
    "plt.show()"
   ]
  },
  {
   "cell_type": "markdown",
   "id": "4f4c4a6a-c423-414d-ae86-ec186d2384bf",
   "metadata": {},
   "source": [
    "### I noticed that there are more Males given higher range final weights, indicating that Females are relatively less reperesentated in this data set. Now I want to find outliers using the IQR method, I cant to replace them as missing."
   ]
  },
  {
   "cell_type": "code",
   "execution_count": 11,
   "id": "e16a8069-d51f-44a2-bbf2-89d62ff10ce9",
   "metadata": {},
   "outputs": [
    {
     "name": "stdout",
     "output_type": "stream",
     "text": [
      "{'fnlwgt_summary': count    3.256100e+04\n",
      "mean     1.897784e+05\n",
      "std      1.055500e+05\n",
      "min      1.228500e+04\n",
      "25%      1.178270e+05\n",
      "50%      1.783560e+05\n",
      "75%      2.370510e+05\n",
      "max      1.484705e+06\n",
      "Name: 2, dtype: float64, 'lower_bound': -61009.0, 'upper_bound': 415887.0, 'num_outliers': 992}\n"
     ]
    }
   ],
   "source": [
    "# Numerically summarize the distribution\n",
    "fnlwgt_summary = adult_data[2].describe()\n",
    "    \n",
    "# Determine if outliers exist using the IQR method\n",
    "Q1 = adult_data[2].quantile(0.25)\n",
    "Q3 = adult_data[2].quantile(0.75)\n",
    "IQR = Q3 - Q1\n",
    "    \n",
    "# Calculate lower and upper bounds\n",
    "lower_bound = Q1 - 1.5 * IQR\n",
    "upper_bound = Q3 + 1.5 * IQR\n",
    "    \n",
    "# Identify outliers\n",
    "outliers = adult_data[(adult_data[2] < lower_bound) | (adult_data[2] > upper_bound)]\n",
    "    \n",
    "# Set outliers to missing\n",
    "adult_data.loc[outliers.index, 2] = None\n",
    "    \n",
    "results = {\n",
    "    \"fnlwgt_summary\": fnlwgt_summary,\n",
    "    \"lower_bound\": lower_bound,\n",
    "    \"upper_bound\": upper_bound,\n",
    "    \"num_outliers\": len(outliers)\n",
    "}\n",
    "print(results)"
   ]
  },
  {
   "cell_type": "markdown",
   "id": "595f9c1a-7834-4022-a7c8-22ed9ad6bb87",
   "metadata": {},
   "source": [
    "### There are 992 data rows with a final wight higher than the upper bound. I set these to None"
   ]
  },
  {
   "cell_type": "markdown",
   "id": "9fd7458c-1dd7-400f-8965-de7d9f8a3ec7",
   "metadata": {},
   "source": [
    "## Part Two: Correlation"
   ]
  },
  {
   "cell_type": "markdown",
   "id": "c89a6742-aa59-43d4-b74f-05bc8b4da4a2",
   "metadata": {},
   "source": [
    "### Find the correlations between age, education_num, and hours_per_week."
   ]
  },
  {
   "cell_type": "code",
   "execution_count": 12,
   "id": "09d3a500-b883-4ca8-a5ba-388e03c610d2",
   "metadata": {},
   "outputs": [
    {
     "name": "stdout",
     "output_type": "stream",
     "text": [
      "Correlations between Age, Education_Num, and Hours_Per_Week:\n",
      "                     Age  Education_Num  Hours_Per_Week\n",
      "Age             1.000000       0.036527        0.068756\n",
      "Education_Num   0.036527       1.000000        0.148123\n",
      "Hours_Per_Week  0.068756       0.148123        1.000000\n"
     ]
    }
   ],
   "source": [
    "# Compute correlations between age (column 0), education_num (column 4), and hours_per_week (column 12)\n",
    "correlation_matrix = adult_data[[0, 4, 12]].corr()\n",
    "correlation_matrix.columns = ['Age', 'Education_Num', 'Hours_Per_Week']\n",
    "correlation_matrix.index = ['Age', 'Education_Num', 'Hours_Per_Week']\n",
    "\n",
    "print(\"Correlations between Age, Education_Num, and Hours_Per_Week:\")\n",
    "print(correlation_matrix)"
   ]
  },
  {
   "cell_type": "markdown",
   "id": "247aa4a8-ff4a-4bd1-ae20-9b7c5a144416",
   "metadata": {},
   "source": [
    "### 1. Do any of the variables appear to be correlated? How did you make your assessment?"
   ]
  },
  {
   "cell_type": "markdown",
   "id": "481c1b86-c8f4-45c1-a011-ac0e8d53cce6",
   "metadata": {},
   "source": [
    "### The above assessment reveals that there is no significant correlation between any of these columns, with the highest correlation being between Education_Num and Hours_Per_Week (0.148123)"
   ]
  },
  {
   "cell_type": "markdown",
   "id": "7a816e96-cc37-4440-abb7-183f53e9ed59",
   "metadata": {},
   "source": [
    "### 2. Statistically test any variable pairs with a correlation coefficient > |0.1| for its difference from 0 and report your result. Is the direction and significance of your finding as expected?"
   ]
  },
  {
   "cell_type": "code",
   "execution_count": 16,
   "id": "b2cb270f-c4fd-4ab1-befc-f3803b98f1dc",
   "metadata": {},
   "outputs": [
    {
     "name": "stdout",
     "output_type": "stream",
     "text": [
      "Encoding complete! Here's a preview of the encoded dataset:\n",
      "    0         2   3   4  5  9  12  14  1_Local-gov  1_Never-worked  ...  \\\n",
      "0  39   77516.0   9  13  4  1  40   0        False           False  ...   \n",
      "1  50   83311.0   9  13  2  1  13   0        False           False  ...   \n",
      "2  38  215646.0  11   9  0  1  40   0        False           False  ...   \n",
      "3  53  234721.0   1   7  2  1  40   0        False           False  ...   \n",
      "4  28  338409.0   9  13  2  0  40   0        False           False  ...   \n",
      "\n",
      "   13_Portugal  13_Puerto-Rico  13_Scotland  13_South  13_Taiwan  13_Thailand  \\\n",
      "0        False           False        False     False      False        False   \n",
      "1        False           False        False     False      False        False   \n",
      "2        False           False        False     False      False        False   \n",
      "3        False           False        False     False      False        False   \n",
      "4        False           False        False     False      False        False   \n",
      "\n",
      "   13_Trinadad&Tobago  13_United-States  13_Vietnam  13_Yugoslavia  \n",
      "0               False              True       False          False  \n",
      "1               False              True       False          False  \n",
      "2               False              True       False          False  \n",
      "3               False              True       False          False  \n",
      "4               False             False       False          False  \n",
      "\n",
      "[5 rows x 83 columns]\n"
     ]
    }
   ],
   "source": [
    "from sklearn.preprocessing import LabelEncoder\n",
    "\n",
    "# Label Encoding for binary and ordinal categorical columns\n",
    "label_encode_columns = [3, 5, 9, 14]  # Education, Marital-status, Sex, Income\n",
    "le = LabelEncoder()\n",
    "\n",
    "for col in label_encode_columns:\n",
    "    adult_data[col] = adult_data[col].astype(str)  # Ensure all are strings for encoding\n",
    "    adult_data[col] = le.fit_transform(adult_data[col])\n",
    "\n",
    "# One-Hot Encoding for nominal categorical columns and binned variables\n",
    "one_hot_encode_columns = [1, 6, 7, 8, 10, 11, 13]  # Taking into account Capital-gain and Capital-loss as new categorical columns \n",
    "adult_data = pd.get_dummies(adult_data, columns=one_hot_encode_columns, drop_first=True)\n",
    "\n",
    "print(adult_data.head())"
   ]
  },
  {
   "cell_type": "code",
   "execution_count": 18,
   "id": "abb30308-f1db-4a26-84b7-55fcb4bc03fc",
   "metadata": {},
   "outputs": [
    {
     "name": "stdout",
     "output_type": "stream",
     "text": [
      "                           0         2         3         4         5  \\\n",
      "0                   1.000000 -0.065672 -0.010508  0.036527 -0.266288   \n",
      "2                  -0.065672  1.000000 -0.023381 -0.035120  0.026491   \n",
      "3                  -0.010508 -0.023381  1.000000  0.359153 -0.038407   \n",
      "4                   0.036527 -0.035120  0.359153  1.000000 -0.069304   \n",
      "5                  -0.266288  0.026491 -0.038407 -0.069304  1.000000   \n",
      "...                      ...       ...       ...       ...       ...   \n",
      "13_Thailand        -0.006271  0.001240  0.000213  0.007896  0.009531   \n",
      "13_Trinadad&Tobago  0.004843 -0.002069 -0.006791 -0.017071  0.001161   \n",
      "13_United-States    0.015917 -0.069045  0.092078  0.101207 -0.035131   \n",
      "13_Vietnam         -0.015054 -0.008629 -0.004550 -0.007483  0.010352   \n",
      "13_Yugoslavia       0.000375  0.003387 -0.006363 -0.001234 -0.005327   \n",
      "\n",
      "                           9        12        14  1_Local-gov  1_Never-worked  \\\n",
      "0                   0.088832  0.068756  0.234037     0.060901       -0.019362   \n",
      "2                   0.021483 -0.015952 -0.003428     0.004439        0.001101   \n",
      "3                  -0.027356  0.055510  0.079317     0.019830       -0.013579   \n",
      "4                   0.012280  0.148123  0.335154     0.097941       -0.015117   \n",
      "5                  -0.129314 -0.190519 -0.199307    -0.033553        0.005170   \n",
      "...                      ...       ...       ...          ...             ...   \n",
      "13_Thailand        -0.014012  0.009537 -0.004078    -0.006164       -0.000345   \n",
      "13_Trinadad&Tobago -0.012744 -0.006006 -0.007660    -0.001148       -0.000354   \n",
      "13_United-States   -0.006993  0.002446  0.034470     0.033196        0.005000   \n",
      "13_Vietnam         -0.001205 -0.011379 -0.017649    -0.003611       -0.000666   \n",
      "13_Yugoslavia       0.006753  0.007408  0.006959    -0.000161       -0.000325   \n",
      "\n",
      "                    ...  13_Portugal  13_Puerto-Rico  13_Scotland  13_South  \\\n",
      "0                   ...     0.004242        0.008374     0.002583  0.000613   \n",
      "2                   ...    -0.012158        0.010215    -0.002385 -0.009317   \n",
      "3                   ...    -0.033219       -0.021629     0.004309  0.007396   \n",
      "4                   ...    -0.044286       -0.041269     0.001264  0.016046   \n",
      "5                   ...    -0.002807        0.008026    -0.002488  0.007024   \n",
      "...                 ...          ...             ...          ...       ...   \n",
      "13_Thailand         ...    -0.000793       -0.001394    -0.000452 -0.001167   \n",
      "13_Trinadad&Tobago  ...    -0.000815       -0.001432    -0.000464 -0.001199   \n",
      "13_United-States    ...    -0.098924       -0.173848    -0.056315 -0.145558   \n",
      "13_Vietnam          ...    -0.001532       -0.002692    -0.000872 -0.002254   \n",
      "13_Yugoslavia       ...    -0.000748       -0.001314    -0.000426 -0.001100   \n",
      "\n",
      "                    13_Taiwan  13_Thailand  13_Trinadad&Tobago  \\\n",
      "0                   -0.013816    -0.006271            0.004843   \n",
      "2                    0.000188     0.001240           -0.002069   \n",
      "3                    0.005978     0.000213           -0.006791   \n",
      "4                    0.049472     0.007896           -0.017071   \n",
      "5                    0.005051     0.009531            0.001161   \n",
      "...                       ...          ...                 ...   \n",
      "13_Thailand         -0.000932     1.000000           -0.000568   \n",
      "13_Trinadad&Tobago  -0.000957    -0.000568            1.000000   \n",
      "13_United-States    -0.116167    -0.068978           -0.070869   \n",
      "13_Vietnam          -0.001799    -0.001068           -0.001097   \n",
      "13_Yugoslavia       -0.000878    -0.000521           -0.000536   \n",
      "\n",
      "                    13_United-States  13_Vietnam  13_Yugoslavia  \n",
      "0                           0.015917   -0.015054       0.000375  \n",
      "2                          -0.069045   -0.008629       0.003387  \n",
      "3                           0.092078   -0.004550      -0.006363  \n",
      "4                           0.101207   -0.007483      -0.001234  \n",
      "5                          -0.035131    0.010352      -0.005327  \n",
      "...                              ...         ...            ...  \n",
      "13_Thailand                -0.068978   -0.001068      -0.000521  \n",
      "13_Trinadad&Tobago         -0.070869   -0.001097      -0.000536  \n",
      "13_United-States            1.000000   -0.133180      -0.065031  \n",
      "13_Vietnam                 -0.133180    1.000000      -0.001007  \n",
      "13_Yugoslavia              -0.065031   -0.001007       1.000000  \n",
      "\n",
      "[83 rows x 83 columns]\n"
     ]
    }
   ],
   "source": [
    "correlation_matrix = adult_data.corr()\n",
    "print(correlation_matrix)"
   ]
  },
  {
   "cell_type": "code",
   "execution_count": 24,
   "id": "4db8a344-10d3-4d65-835d-215a6affa958",
   "metadata": {},
   "outputs": [
    {
     "name": "stdout",
     "output_type": "stream",
     "text": [
      "                Variable 1          Variable 2  Correlation\n",
      "3022               8_White             8_Black    -0.788747\n",
      "2858               8_Black             8_White    -0.788747\n",
      "1006    1_Self-emp-not-inc           1_Private    -0.441289\n",
      "842              1_Private  1_Self-emp-not-inc    -0.441289\n",
      "2775  8_Asian-Pac-Islander             8_White    -0.439572\n",
      "...                    ...                 ...          ...\n",
      "329                      4    13_United-States     0.101207\n",
      "2953               8_Other          13_Ecuador     0.101108\n",
      "4019            13_Ecuador             8_Other     0.101108\n",
      "1499     6_Farming-fishing                   9     0.100097\n",
      "433                      9   6_Farming-fishing     0.100097\n",
      "\n",
      "[286 rows x 3 columns]\n"
     ]
    }
   ],
   "source": [
    "# Extract correlations with |r| > 0.1 and drop NaN values\n",
    "significant_correlations = correlation_matrix.stack().reset_index()\n",
    "significant_correlations.columns = ['Variable 1', 'Variable 2', 'Correlation']\n",
    "significant_correlations = significant_correlations[\n",
    "        (significant_correlations['Correlation'].abs() > 0.1) & \n",
    "        (significant_correlations['Correlation'].abs() < 1.0)]\n",
    "\n",
    "# Sort by absolute correlation value for better readability\n",
    "significant_correlations = significant_correlations.sort_values(by='Correlation', key=abs, ascending=False)\n",
    "print(significant_correlations)"
   ]
  },
  {
   "cell_type": "markdown",
   "id": "0946f196-8672-4754-a47c-edc29703ea48",
   "metadata": {},
   "source": [
    "### The results show that some correlations, like those between mutually exclusive categories (e.g., White and Black races, or different workclasses), are strongly negative, which is expected because a person can only belong to one category at a time. There are weaker positive correlations, like between higher education levels and being from the United States, or farming/fishing occupations and gender, which also make sense based on societal trends. While these correlations are statistically significant, the weak ones (around 0.1) may not be meaningful in real life. Overall, the findings align with what we’d expect, but not all correlations are practically useful."
   ]
  },
  {
   "cell_type": "markdown",
   "id": "4e3e305c-f6bc-48c0-b902-74d3e0a10798",
   "metadata": {},
   "source": [
    "## 3. How does the correlation (and its significance) between education_num and age compare between male and female participants? Is this expected?"
   ]
  },
  {
   "cell_type": "code",
   "execution_count": 27,
   "id": "10ddce00-0a08-4038-8974-2dde2a86eac8",
   "metadata": {},
   "outputs": [
    {
     "name": "stdout",
     "output_type": "stream",
     "text": [
      "{'Male Correlation': 0.06048640919827618, 'Male P-Value': 4.0229868300970554e-19, 'Female Correlation': -0.017899243935447628, 'Female P-Value': 0.0632289503088074, 'Significant for Males': 'Yes', 'Significant for Females': 'No'}\n"
     ]
    }
   ],
   "source": [
    "male_data = adult_data[adult_data[9] == 1]\n",
    "female_data = adult_data[adult_data[9] == 0]\n",
    "\n",
    "corr_male, p_value_male = pearsonr(male_data[4], male_data[0])\n",
    "corr_female, p_value_female = pearsonr(female_data[4], female_data[0])\n",
    "\n",
    "correlation_comparison = {\n",
    "    \"Male Correlation\": corr_male,\n",
    "    \"Male P-Value\": p_value_male,\n",
    "    \"Female Correlation\": corr_female,\n",
    "    \"Female P-Value\": p_value_female,\n",
    "    \"Significant for Males\": \"Yes\" if p_value_male < 0.05 else \"No\",\n",
    "    \"Significant for Females\": \"Yes\" if p_value_female < 0.05 else \"No\"\n",
    "}\n",
    "\n",
    "print(correlation_comparison)"
   ]
  },
  {
   "cell_type": "markdown",
   "id": "f4253077-6424-44b0-b56f-6db34e350f3a",
   "metadata": {},
   "source": [
    "For males, there is a very weak positive correlation between age and education level, meaning older men tend to have slightly higher education levels, but the effect is very small. This correlation is statistically significant because the dataset is large. For females, there is almost no correlation between age and education level, and it is not statistically significant. This suggests no meaningful link between age and education for women. These results are expected, as historical and societal factors might explain the small trend for men, while women’s education levels likely vary more across age groups due to changing opportunities over time."
   ]
  },
  {
   "cell_type": "markdown",
   "id": "9ff5ccf9-7821-422a-89be-368a81a72fc4",
   "metadata": {},
   "source": [
    "## 4. Compute the covariance matrix for education_num and hours_per_week. What conclusions can you draw from the covariance matrix?"
   ]
  },
  {
   "cell_type": "code",
   "execution_count": 28,
   "id": "4b83291c-b3b2-4faf-bcf3-ff70c7b825a3",
   "metadata": {},
   "outputs": [
    {
     "name": "stdout",
     "output_type": "stream",
     "text": [
      "           4          12\n",
      "4   6.618890    4.705338\n",
      "12  4.705338  152.458995\n"
     ]
    }
   ],
   "source": [
    "covariance_matrix = adult_data[[4, 12]].cov()\n",
    "print(covariance_matrix)"
   ]
  },
  {
   "cell_type": "markdown",
   "id": "373922a2-d850-425e-a412-413f45a15141",
   "metadata": {},
   "source": [
    "The covariance matrix shows a small positive relationship between education level and hours worked per week. This means people with higher education tend to work slightly more hours, but the effect is not very strong. The variance in hours worked is much higher than the variance in education levels, suggesting that working hours vary widely for other reasons beyond education. Overall, the connection between education and working hours is weak."
   ]
  }
 ],
 "metadata": {
  "kernelspec": {
   "display_name": "Python 3 (ipykernel)",
   "language": "python",
   "name": "python3"
  },
  "language_info": {
   "codemirror_mode": {
    "name": "ipython",
    "version": 3
   },
   "file_extension": ".py",
   "mimetype": "text/x-python",
   "name": "python",
   "nbconvert_exporter": "python",
   "pygments_lexer": "ipython3",
   "version": "3.11.7"
  }
 },
 "nbformat": 4,
 "nbformat_minor": 5
}
